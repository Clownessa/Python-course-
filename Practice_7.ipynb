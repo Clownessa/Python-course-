{
  "nbformat": 4,
  "nbformat_minor": 0,
  "metadata": {
    "colab": {
      "name": "Practice_7.ipynb",
      "provenance": [],
      "authorship_tag": "ABX9TyMqoI+MVNimGH8ydbHO9Hid",
      "include_colab_link": true
    },
    "kernelspec": {
      "name": "python3",
      "display_name": "Python 3"
    }
  },
  "cells": [
    {
      "cell_type": "markdown",
      "metadata": {
        "id": "view-in-github",
        "colab_type": "text"
      },
      "source": [
        "<a href=\"https://colab.research.google.com/github/Clownessa/Python-course-/blob/master/Practice_7.ipynb\" target=\"_parent\"><img src=\"https://colab.research.google.com/assets/colab-badge.svg\" alt=\"Open In Colab\"/></a>"
      ]
    },
    {
      "cell_type": "code",
      "metadata": {
        "id": "kvo8PSniSudm",
        "colab_type": "code",
        "outputId": "f720e312-abac-4619-8144-8fd6cc79edfb",
        "colab": {
          "base_uri": "https://localhost:8080/",
          "height": 156
        }
      },
      "source": [
        "#task 1 low\n",
        "#Create a 8x8 matrix and fill it with a checkerboard pattern. \n",
        "#(NOTE: without loops!)\n",
        "\n",
        "import numpy as np\n",
        "\n",
        "Z = np.zeros((8,8),dtype=int)\n",
        "Z[1::2,::2] = 1\n",
        "Z[::2,1::2] = 1\n",
        "print(Z)"
      ],
      "execution_count": 0,
      "outputs": [
        {
          "output_type": "stream",
          "text": [
            "[[0 1 0 1 0 1 0 1]\n",
            " [1 0 1 0 1 0 1 0]\n",
            " [0 1 0 1 0 1 0 1]\n",
            " [1 0 1 0 1 0 1 0]\n",
            " [0 1 0 1 0 1 0 1]\n",
            " [1 0 1 0 1 0 1 0]\n",
            " [0 1 0 1 0 1 0 1]\n",
            " [1 0 1 0 1 0 1 0]]\n"
          ],
          "name": "stdout"
        }
      ]
    },
    {
      "cell_type": "code",
      "metadata": {
        "id": "5Yd1YxsHTgXn",
        "colab_type": "code",
        "outputId": "735f5b1f-cf3a-4ec5-fcd3-c241e1bf0841",
        "colab": {
          "base_uri": "https://localhost:8080/",
          "height": 104
        }
      },
      "source": [
        "#task 2\n",
        "#Create a structured array with x and y coordinates covering the [0,1]x[0,1] area. \n",
        "#(NOTE: without loops!)\n",
        "\n",
        "import numpy as np\n",
        "\n",
        "Z = np.zeros((5,5), [('x',float),('y',float)])\n",
        "Z['x'], Z['y'] = np.meshgrid(np.linspace(0,1,5),\n",
        "                             np.linspace(0,1,5))\n",
        "print(Z)"
      ],
      "execution_count": 0,
      "outputs": [
        {
          "output_type": "stream",
          "text": [
            "[[(0.  , 0.  ) (0.25, 0.  ) (0.5 , 0.  ) (0.75, 0.  ) (1.  , 0.  )]\n",
            " [(0.  , 0.25) (0.25, 0.25) (0.5 , 0.25) (0.75, 0.25) (1.  , 0.25)]\n",
            " [(0.  , 0.5 ) (0.25, 0.5 ) (0.5 , 0.5 ) (0.75, 0.5 ) (1.  , 0.5 )]\n",
            " [(0.  , 0.75) (0.25, 0.75) (0.5 , 0.75) (0.75, 0.75) (1.  , 0.75)]\n",
            " [(0.  , 1.  ) (0.25, 1.  ) (0.5 , 1.  ) (0.75, 1.  ) (1.  , 1.  )]]\n"
          ],
          "name": "stdout"
        }
      ]
    },
    {
      "cell_type": "code",
      "metadata": {
        "id": "4X4-1Rz0UMUn",
        "colab_type": "code",
        "outputId": "6a688ba0-c872-4814-a63e-77bbe5f2ea2e",
        "colab": {
          "base_uri": "https://localhost:8080/",
          "height": 87
        }
      },
      "source": [
        "#task 3\n",
        "#Consider a random 10x2 matrix representing cartesian coordinates \n",
        "#(10 points on a plane), convert them to polar coordinates.\n",
        "#(NOTE: without loops!)\n",
        "\n",
        "import numpy as np\n",
        "\n",
        "Z = np.random.random((10,2))\n",
        "X,Y = Z[:,0], Z[:,1]\n",
        "R = np.sqrt(X**2+Y**2)\n",
        "T = np.arctan2(Y,X)\n",
        "print(R)\n",
        "print(T)"
      ],
      "execution_count": 0,
      "outputs": [
        {
          "output_type": "stream",
          "text": [
            "[0.88606069 0.86081935 0.6292706  0.20309672 0.3195305  0.55166599\n",
            " 0.8921849  0.91112718 1.16899929 0.8792869 ]\n",
            "[0.88782937 0.08813068 1.14452789 1.29659433 1.44133852 0.89557485\n",
            " 1.31955567 0.55411651 0.94206644 1.01841671]\n"
          ],
          "name": "stdout"
        }
      ]
    },
    {
      "cell_type": "code",
      "metadata": {
        "id": "hu9HWmEOUrcF",
        "colab_type": "code",
        "outputId": "7d927bc2-0642-4c54-da53-560c58f31e04",
        "colab": {
          "base_uri": "https://localhost:8080/",
          "height": 35
        }
      },
      "source": [
        "#task 4\n",
        "#Find the nearest value N from a given value A in an array X.\n",
        "#(NOTE: without loops!)\n",
        "\n",
        "import numpy as np\n",
        "\n",
        "X = np.array([1, 2, 3, 4, 5, 6])\n",
        "A = 2.4685\n",
        "# Находим индекс ближайшего к A элемента\n",
        "index = (np.abs(X-A)).argmin()\n",
        "print(X[index])"
      ],
      "execution_count": 0,
      "outputs": [
        {
          "output_type": "stream",
          "text": [
            "2\n"
          ],
          "name": "stdout"
        }
      ]
    },
    {
      "cell_type": "code",
      "metadata": {
        "id": "-g7Awd-JVT9R",
        "colab_type": "code",
        "outputId": "a34016d5-c052-4e3d-99e4-0467b62bc600",
        "colab": {
          "base_uri": "https://localhost:8080/",
          "height": 191
        }
      },
      "source": [
        "#task 5\n",
        "#Subtract the mean of each row of a matrix (elementwise).\n",
        "#(NOTE: without loops!)\n",
        "\n",
        "import numpy as np\n",
        "\n",
        "X = np.random.rand(5, 10)\n",
        "\n",
        "Y = X - X.mean(axis=1, keepdims=True)\n",
        "\n",
        "Y = X - X.mean(axis=1).reshape(-1, 1)\n",
        "\n",
        "print(Y)"
      ],
      "execution_count": 0,
      "outputs": [
        {
          "output_type": "stream",
          "text": [
            "[[-0.27654028  0.13242076  0.11445999  0.47918357 -0.48273408 -0.40387268\n",
            "   0.33943727  0.17383353 -0.03780965 -0.03837844]\n",
            " [ 0.42595856  0.22597953 -0.07601923  0.38121963 -0.41701129 -0.3073656\n",
            "  -0.33662659 -0.39977456  0.40684841  0.09679115]\n",
            " [-0.16824154  0.30013453  0.17557309 -0.33579305 -0.28352049  0.33666342\n",
            "   0.37184907  0.36556987 -0.39510844 -0.36712646]\n",
            " [-0.42625873 -0.38790493 -0.27981061  0.44990946  0.08947607 -0.33525488\n",
            "   0.36134708  0.15007089  0.28199064  0.09643501]\n",
            " [ 0.22286674 -0.20713561  0.00745788  0.15884137  0.15108963  0.12230417\n",
            "   0.02759144 -0.37154408  0.22045134 -0.33192287]]\n"
          ],
          "name": "stdout"
        }
      ]
    },
    {
      "cell_type": "code",
      "metadata": {
        "id": "tHDQcoXfVqaF",
        "colab_type": "code",
        "outputId": "73dd9d07-11d4-48e3-d6e6-40cb47d594de",
        "colab": {
          "base_uri": "https://localhost:8080/",
          "height": 191
        }
      },
      "source": [
        "#task 6\n",
        "#Randomly place p given elements in a 2D array of zeros.\n",
        "#(NOTE: without loops!)\n",
        "\n",
        "import numpy as np\n",
        "\n",
        "n = 10\n",
        "p = 3\n",
        "Z = np.zeros((n,n))\n",
        "np.put(Z, np.random.choice(range(n*n), p, replace=False),1)\n",
        "print(Z)"
      ],
      "execution_count": 0,
      "outputs": [
        {
          "output_type": "stream",
          "text": [
            "[[0. 0. 0. 0. 0. 0. 0. 0. 0. 0.]\n",
            " [0. 1. 0. 0. 0. 0. 0. 0. 0. 0.]\n",
            " [0. 0. 0. 0. 0. 0. 0. 0. 0. 0.]\n",
            " [0. 0. 0. 0. 0. 0. 0. 0. 0. 0.]\n",
            " [0. 0. 0. 0. 0. 0. 0. 0. 0. 0.]\n",
            " [0. 0. 0. 0. 0. 0. 0. 0. 0. 1.]\n",
            " [0. 0. 0. 0. 0. 0. 1. 0. 0. 0.]\n",
            " [0. 0. 0. 0. 0. 0. 0. 0. 0. 0.]\n",
            " [0. 0. 0. 0. 0. 0. 0. 0. 0. 0.]\n",
            " [0. 0. 0. 0. 0. 0. 0. 0. 0. 0.]]\n"
          ],
          "name": "stdout"
        }
      ]
    },
    {
      "cell_type": "code",
      "metadata": {
        "id": "9NsOBnBQWGu5",
        "colab_type": "code",
        "outputId": "ed1a446c-1a3d-40ae-9fdc-529328348c2d",
        "colab": {
          "base_uri": "https://localhost:8080/",
          "height": 35
        }
      },
      "source": [
        "#task 7\n",
        "#How to accumulate elements of a vector (X) to an array (F) \n",
        "#based on an index list (I)? \n",
        "#(It's okay, if you will use loops)\n",
        "\n",
        "\n",
        "import numpy as np\n",
        "\n",
        "X = [1,2,3,4,5,6]\n",
        "I = [1,3,9,3,4,1]\n",
        "F = np.bincount(I,X)\n",
        "print(F)"
      ],
      "execution_count": 0,
      "outputs": [
        {
          "output_type": "stream",
          "text": [
            "[0. 7. 0. 6. 5. 0. 0. 0. 0. 3.]\n"
          ],
          "name": "stdout"
        }
      ]
    },
    {
      "cell_type": "code",
      "metadata": {
        "id": "t3BXnt5lWSrk",
        "colab_type": "code",
        "outputId": "86d01983-5975-44e2-c055-213065d4aed4",
        "colab": {
          "base_uri": "https://localhost:8080/",
          "height": 104
        }
      },
      "source": [
        "#task 1 medium\n",
        "#How to swap two rows of a given 2-dim matrix of an array? \n",
        "#(in just one step)\n",
        "\n",
        "import numpy as np\n",
        "\n",
        "A = np.arange(25).reshape(5,5)\n",
        "A[[0,1]] = A[[1,0]]\n",
        "print(A)"
      ],
      "execution_count": 0,
      "outputs": [
        {
          "output_type": "stream",
          "text": [
            "[[ 5  6  7  8  9]\n",
            " [ 0  1  2  3  4]\n",
            " [10 11 12 13 14]\n",
            " [15 16 17 18 19]\n",
            " [20 21 22 23 24]]\n"
          ],
          "name": "stdout"
        }
      ]
    },
    {
      "cell_type": "code",
      "metadata": {
        "id": "wW-Gsq4ZE51J",
        "colab_type": "code",
        "outputId": "b32e8d51-edc0-4be3-a529-99d8a7f8f54d",
        "colab": {
          "base_uri": "https://localhost:8080/",
          "height": 35
        }
      },
      "source": [
        "#task 2\n",
        "#Find all null (with zeros only) columns in a given \n",
        "#multi dimensional array and print its indices.\n",
        "#(NOTE: without loops!)\n",
        "\n",
        "import numpy as np\n",
        "\n",
        "matrix = np.array([[0, 0, 0],\n",
        "[0, 1, 0],\n",
        "[0, 0, 0],\n",
        "[0, 0, 0]])\n",
        "\n",
        "coordinates = np.transpose(np.argwhere(matrix))[1]\n",
        "a = np.arange(matrix.shape[1])\n",
        "\n",
        "coordinates = np.array(set(a) - set(coordinates))\n",
        "print(coordinates)"
      ],
      "execution_count": 0,
      "outputs": [
        {
          "output_type": "stream",
          "text": [
            "{0, 2}\n"
          ],
          "name": "stdout"
        }
      ]
    },
    {
      "cell_type": "code",
      "metadata": {
        "id": "AJZrlHOKWvsd",
        "colab_type": "code",
        "outputId": "24b00aed-e9cd-482d-94ae-ea5e32da94fc",
        "colab": {
          "base_uri": "https://localhost:8080/",
          "height": 35
        }
      },
      "source": [
        "#task 3\n",
        "#Consider the vector, how to build a new vector with 3 consecutive \n",
        "#zeros interleaved between each value?\n",
        "#(NOTE: without loops!)\n",
        "\n",
        "import numpy as np\n",
        "\n",
        "Z = np.array([1,2,3,4,5])\n",
        "nz = 3\n",
        "Z0 = np.zeros(len(Z) + (len(Z)-1)*(nz))\n",
        "Z0[::nz+1] = Z\n",
        "print(Z0)"
      ],
      "execution_count": 0,
      "outputs": [
        {
          "output_type": "stream",
          "text": [
            "[1. 0. 0. 0. 2. 0. 0. 0. 3. 0. 0. 0. 4. 0. 0. 0. 5.]\n"
          ],
          "name": "stdout"
        }
      ]
    },
    {
      "cell_type": "code",
      "metadata": {
        "id": "Nitpe8n_Xv7I",
        "colab_type": "code",
        "outputId": "fd30d847-0fa3-4754-e0c8-5f67b77332b7",
        "colab": {
          "base_uri": "https://localhost:8080/",
          "height": 225
        }
      },
      "source": [
        "#task 4\n",
        "#Given an arbitrary number of vectors, build the cartesian product\n",
        "#(every combinations of every item).\n",
        "#(Loops allowed, but use NumPy!)\n",
        "\n",
        "import numpy as np\n",
        "\n",
        "def cartesian(arrays):\n",
        "    arrays = [np.asarray(a) for a in arrays]\n",
        "    shape = (len(x) for x in arrays)\n",
        "\n",
        "    ix = np.indices(shape, dtype=int)\n",
        "    ix = ix.reshape(len(arrays), -1).T\n",
        "\n",
        "    for n, arr in enumerate(arrays):\n",
        "        ix[:, n] = arrays[n][ix[:, n]]\n",
        "\n",
        "    return ix\n",
        "\n",
        "print (cartesian(([1, 2, 3], [4, 5], [6, 7])))"
      ],
      "execution_count": 0,
      "outputs": [
        {
          "output_type": "stream",
          "text": [
            "[[1 4 6]\n",
            " [1 4 7]\n",
            " [1 5 6]\n",
            " [1 5 7]\n",
            " [2 4 6]\n",
            " [2 4 7]\n",
            " [2 5 6]\n",
            " [2 5 7]\n",
            " [3 4 6]\n",
            " [3 4 7]\n",
            " [3 5 6]\n",
            " [3 5 7]]\n"
          ],
          "name": "stdout"
        }
      ]
    },
    {
      "cell_type": "code",
      "metadata": {
        "id": "GngHbXlbYeQK",
        "colab_type": "code",
        "outputId": "20c8ff43-0608-40f9-ff37-0aeeb5f396bc",
        "colab": {
          "base_uri": "https://localhost:8080/",
          "height": 35
        }
      },
      "source": [
        "#task 5\n",
        "#How to compute averages using a sliding window (of a given size N) over an array Z?\n",
        "\n",
        "import numpy as np\n",
        "\n",
        "def moving_average(a, n=3) :\n",
        "    ret = np.cumsum(a, dtype=float)\n",
        "    ret[n:] = ret[n:] - ret[:-n]\n",
        "    return ret[n - 1:] / n\n",
        "Z = np.arange(20)\n",
        "print(moving_average(Z, n=3))"
      ],
      "execution_count": 0,
      "outputs": [
        {
          "output_type": "stream",
          "text": [
            "[ 1.  2.  3.  4.  5.  6.  7.  8.  9. 10. 11. 12. 13. 14. 15. 16. 17. 18.]\n"
          ],
          "name": "stdout"
        }
      ]
    },
    {
      "cell_type": "code",
      "metadata": {
        "id": "k_kO2Z2xMHy0",
        "colab_type": "code",
        "outputId": "b98ecfa7-b82c-47d0-f077-954262d66bde",
        "colab": {
          "base_uri": "https://localhost:8080/",
          "height": 121
        }
      },
      "source": [
        "#task 1 advanced \n",
        "#Considering a four dimensional array, how to get the sum over the last two axes at once?\n",
        "import numpy as np\n",
        "\n",
        "A = np.random.randint(0,10,(3,4,3,4))\n",
        "\n",
        "sum = A.sum(axis=(-2,-1))\n",
        "print(sum)\n",
        "\n",
        "sum = A.reshape(A.shape[:-2] + (-1,)).sum(axis=-1)\n",
        "print(sum)"
      ],
      "execution_count": 0,
      "outputs": [
        {
          "output_type": "stream",
          "text": [
            "[[29 41 68 53]\n",
            " [58 71 62 57]\n",
            " [57 54 67 54]]\n",
            "[[29 41 68 53]\n",
            " [58 71 62 57]\n",
            " [57 54 67 54]]\n"
          ],
          "name": "stdout"
        }
      ]
    },
    {
      "cell_type": "code",
      "metadata": {
        "id": "T7aZwhEwOLgO",
        "colab_type": "code",
        "outputId": "60d24239-5100-462b-e7e3-af8ea58de36d",
        "colab": {
          "base_uri": "https://localhost:8080/",
          "height": 35
        }
      },
      "source": [
        "#task 2\n",
        "#An image can be represented as a 3-dim array: (height, width, channels). \n",
        "#How to compute the number of unique colors in an image? \n",
        "#NOTE: One color - combination of 3 channels: Red, Green, Blue\n",
        "#(Find some info about RGB image representation in the Internet!)\n",
        "\n",
        "import numpy as np\n",
        "\n",
        "w,h = 16,16\n",
        "I = np.random.randint(0,2,(h,w,3)).astype(np.ubyte)\n",
        "F = I[...,0]*256*256 + I[...,1]*256 +I[...,2]\n",
        "n = len(np.unique(F))\n",
        "print(np.unique(I))"
      ],
      "execution_count": 0,
      "outputs": [
        {
          "output_type": "stream",
          "text": [
            "[0 1]\n"
          ],
          "name": "stdout"
        }
      ]
    },
    {
      "cell_type": "code",
      "metadata": {
        "id": "PO3n_Wl4Oi69",
        "colab_type": "code",
        "outputId": "37152ef4-7510-4577-d803-4df68408d8b3",
        "colab": {
          "base_uri": "https://localhost:8080/",
          "height": 364
        }
      },
      "source": [
        "#task 3\n",
        "#Consider a random vector with shape (100,2) representing coordinates, \n",
        "#find point by point distances (Try it without loops!)\n",
        "\n",
        "import numpy as np\n",
        "\n",
        "Z = np.random.random((10,2))\n",
        "X,Y = np.atleast_2d(Z[:,0], Z[:,1])\n",
        "D = np.sqrt( (X-X.T)**2 + (Y-Y.T)**2)\n",
        "print(D)"
      ],
      "execution_count": 0,
      "outputs": [
        {
          "output_type": "stream",
          "text": [
            "[[0.         0.09225482 0.1209855  0.7614664  0.59672352 0.27843566\n",
            "  0.60163829 0.38798863 0.71847264 0.94164578]\n",
            " [0.09225482 0.         0.1874268  0.77536341 0.59311492 0.18665157\n",
            "  0.62734344 0.4687141  0.6882411  0.90235162]\n",
            " [0.1209855  0.1874268  0.         0.86037512 0.7076268  0.36454565\n",
            "  0.69319167 0.40568182 0.83794143 1.06227358]\n",
            " [0.7614664  0.77536341 0.86037512 0.         0.21622071 0.81309462\n",
            "  0.17861594 0.60988675 0.35908526 0.51394095]\n",
            " [0.59672352 0.59311492 0.7076268  0.21622071 0.         0.60649304\n",
            "  0.19453251 0.55486755 0.21885379 0.44080251]\n",
            " [0.27843566 0.18665157 0.36454565 0.81309462 0.60649304 0.\n",
            "  0.69415446 0.63324104 0.64009417 0.82605473]\n",
            " [0.60163829 0.62734344 0.69319167 0.17861594 0.19453251 0.69415446\n",
            "  0.         0.43317403 0.4085721  0.61470604]\n",
            " [0.38798863 0.4687141  0.40568182 0.60988675 0.55486755 0.63324104\n",
            "  0.43317403 0.         0.75841344 0.99106747]\n",
            " [0.71847264 0.6882411  0.83794143 0.35908526 0.21885379 0.64009417\n",
            "  0.4085721  0.75841344 0.         0.23501566]\n",
            " [0.94164578 0.90235162 1.06227358 0.51394095 0.44080251 0.82605473\n",
            "  0.61470604 0.99106747 0.23501566 0.        ]]\n"
          ],
          "name": "stdout"
        }
      ]
    },
    {
      "cell_type": "code",
      "metadata": {
        "id": "w-9LOvrfOo1l",
        "colab_type": "code",
        "outputId": "e48a1efb-40da-47df-9677-4f40cc5af58a",
        "colab": {
          "base_uri": "https://localhost:8080/",
          "height": 52
        }
      },
      "source": [
        "#task 4\n",
        "#Consider 2 sets of points P0,P1 describing lines (2d) and a point p,\n",
        "#how to compute distance from p to each line i (P0[i],P1[i])?\n",
        "\n",
        "import numpy as np\n",
        "\n",
        "def distance(P0, P1, p):\n",
        "    T = P1 - P0\n",
        "    L = (T**2).sum(axis=1)\n",
        "    U = -((P0[:,0]-p[...,0])*T[:,0] + (P0[:,1]-p[...,1])*T[:,1]) / L\n",
        "    U = U.reshape(len(U),1)\n",
        "    D = P0 + U*T - p\n",
        "    return np.sqrt((D**2).sum(axis=1))\n",
        "P0 = np.random.uniform(-10,10,(10,2))\n",
        "P1 = np.random.uniform(-10,10,(10,2))\n",
        "p  = np.random.uniform(-10,10,( 1,2))\n",
        "print(distance(P0, P1, p))"
      ],
      "execution_count": 0,
      "outputs": [
        {
          "output_type": "stream",
          "text": [
            "[ 8.75949201 13.49258373  3.01410565  8.61224533 18.57677507  4.32129587\n",
            " 11.48620894  3.13315103 12.48014799  7.92022247]\n"
          ],
          "name": "stdout"
        }
      ]
    },
    {
      "cell_type": "code",
      "metadata": {
        "id": "kiKHn82BPNxz",
        "colab_type": "code",
        "outputId": "2aebb6ec-deed-44de-9381-f739e2698ad1",
        "colab": {
          "base_uri": "https://localhost:8080/",
          "height": 173
        }
      },
      "source": [
        "#task 5\n",
        "#Convert a vector of ints into a matrix binary representation \n",
        "#(NOTE: without loops!)\n",
        "\n",
        "import numpy as np\n",
        "\n",
        "I = np.array([0, 1, 2, 3, 15, 16, 32, 64, 128])\n",
        "B = ((I.reshape(-1,1) & (2**np.arange(8))) != 0).astype(int)\n",
        "print(B[:,::-1])"
      ],
      "execution_count": 0,
      "outputs": [
        {
          "output_type": "stream",
          "text": [
            "[[0 0 0 0 0 0 0 0]\n",
            " [0 0 0 0 0 0 0 1]\n",
            " [0 0 0 0 0 0 1 0]\n",
            " [0 0 0 0 0 0 1 1]\n",
            " [0 0 0 0 1 1 1 1]\n",
            " [0 0 0 1 0 0 0 0]\n",
            " [0 0 1 0 0 0 0 0]\n",
            " [0 1 0 0 0 0 0 0]\n",
            " [1 0 0 0 0 0 0 0]]\n"
          ],
          "name": "stdout"
        }
      ]
    }
  ]
}