{
  "nbformat": 4,
  "nbformat_minor": 0,
  "metadata": {
    "colab": {
      "name": "Practice_8.ipynb",
      "provenance": [],
      "collapsed_sections": [],
      "authorship_tag": "ABX9TyOIhHWnXTbOd/6s7dSglCKw",
      "include_colab_link": true
    },
    "kernelspec": {
      "name": "python3",
      "display_name": "Python 3"
    }
  },
  "cells": [
    {
      "cell_type": "markdown",
      "metadata": {
        "id": "view-in-github",
        "colab_type": "text"
      },
      "source": [
        "<a href=\"https://colab.research.google.com/github/Clownessa/Python-course-/blob/master/Practice_8.ipynb\" target=\"_parent\"><img src=\"https://colab.research.google.com/assets/colab-badge.svg\" alt=\"Open In Colab\"/></a>"
      ]
    },
    {
      "cell_type": "code",
      "metadata": {
        "id": "JOyW6Tpo_UT2",
        "colab_type": "code",
        "outputId": "8f88f9f8-40e5-4896-ae7d-35cfad00207d",
        "colab": {
          "base_uri": "https://localhost:8080/",
          "height": 121
        }
      },
      "source": [
        "#task 1 low level \n",
        "#How to combine many series to form a dataframe?\n",
        "\n",
        "import numpy as np\n",
        "import pandas as pd\n",
        "\n",
        "A = pd.Series(list('abcedfghijklmnopqrstuvwxyz'))\n",
        "B = pd.Series(np.arange(26))\n",
        "\n",
        "df = pd.DataFrame({'col1': A, 'col2': B})\n",
        "print(df.head())"
      ],
      "execution_count": 0,
      "outputs": [
        {
          "output_type": "stream",
          "text": [
            "  col1  col2\n",
            "0    a     0\n",
            "1    b     1\n",
            "2    c     2\n",
            "3    e     3\n",
            "4    d     4\n"
          ],
          "name": "stdout"
        }
      ]
    },
    {
      "cell_type": "code",
      "metadata": {
        "id": "NLVYJbzNBCqY",
        "colab_type": "code",
        "outputId": "fd6bb827-8def-49e1-91a1-37224c383b44",
        "colab": {
          "base_uri": "https://localhost:8080/",
          "height": 87
        }
      },
      "source": [
        "#task 2 \n",
        "#How to get the items of series A not present in series B?\n",
        "\n",
        "import pandas as pd\n",
        "import numpy as np\n",
        "\n",
        "A = pd.Series([1, 2, 3, 4, 5])\n",
        "B = pd.Series([4, 5, 6, 7, 8])\n",
        "\n",
        "A[~A.isin(B)]"
      ],
      "execution_count": 0,
      "outputs": [
        {
          "output_type": "execute_result",
          "data": {
            "text/plain": [
              "0    1\n",
              "1    2\n",
              "2    3\n",
              "dtype: int64"
            ]
          },
          "metadata": {
            "tags": []
          },
          "execution_count": 9
        }
      ]
    },
    {
      "cell_type": "code",
      "metadata": {
        "id": "UDHaid0NBksG",
        "colab_type": "code",
        "outputId": "f3c2d648-d678-4f69-c3b9-c721d0446bc9",
        "colab": {
          "base_uri": "https://localhost:8080/",
          "height": 104
        }
      },
      "source": [
        "#task 3\n",
        "#How to convert the first character of each element in a series to uppercase?\n",
        "\n",
        "import numpy as np\n",
        "import pandas as pd\n",
        "\n",
        "ser = pd.Series(['how', 'to', 'kick', 'ass?'])\n",
        "\n",
        "pd.Series([i.title() for i in ser])"
      ],
      "execution_count": 0,
      "outputs": [
        {
          "output_type": "execute_result",
          "data": {
            "text/plain": [
              "0     How\n",
              "1      To\n",
              "2    Kick\n",
              "3    Ass?\n",
              "dtype: object"
            ]
          },
          "metadata": {
            "tags": []
          },
          "execution_count": 12
        }
      ]
    },
    {
      "cell_type": "code",
      "metadata": {
        "id": "t9ciWb17CXQw",
        "colab_type": "code",
        "outputId": "1b369191-0abd-41a1-a2a0-f5329be6af77",
        "colab": {
          "base_uri": "https://localhost:8080/",
          "height": 35
        }
      },
      "source": [
        "#task 4\n",
        "#How to get the minimum, 25th percentile, median, 75th, \n",
        "#and max of a numeric series?\n",
        "\n",
        "import pandas as pd\n",
        "import numpy as np\n",
        "\n",
        "state = np.random.RandomState(100)\n",
        "ser = pd.Series(state.normal(10, 5, 25))\n",
        "\n",
        "np.percentile(ser, q=[0, 25, 50, 75, 100])"
      ],
      "execution_count": 0,
      "outputs": [
        {
          "output_type": "execute_result",
          "data": {
            "text/plain": [
              "array([ 1.25117263,  7.70986507, 10.92259345, 13.36360403, 18.0949083 ])"
            ]
          },
          "metadata": {
            "tags": []
          },
          "execution_count": 14
        }
      ]
    },
    {
      "cell_type": "code",
      "metadata": {
        "id": "i1M-T9rvCwel",
        "colab_type": "code",
        "outputId": "50059d9f-bb68-476e-84cf-f41a3f1bd766",
        "colab": {
          "base_uri": "https://localhost:8080/",
          "height": 139
        }
      },
      "source": [
        "#task 5\n",
        "#How to convert a series of date-strings to a timeseries?\n",
        "import pandas as pd\n",
        "import numpy as np\n",
        "\n",
        "ser = pd.Series(['01 Jan 2010', '02-02-2011', '20120303', '2013/04/04', '2014-05-05', '2015-06-06T12:20'])\n",
        "\n",
        "pd.to_datetime(ser)"
      ],
      "execution_count": 0,
      "outputs": [
        {
          "output_type": "execute_result",
          "data": {
            "text/plain": [
              "0   2010-01-01 00:00:00\n",
              "1   2011-02-02 00:00:00\n",
              "2   2012-03-03 00:00:00\n",
              "3   2013-04-04 00:00:00\n",
              "4   2014-05-05 00:00:00\n",
              "5   2015-06-06 12:20:00\n",
              "dtype: datetime64[ns]"
            ]
          },
          "metadata": {
            "tags": []
          },
          "execution_count": 15
        }
      ]
    },
    {
      "cell_type": "code",
      "metadata": {
        "id": "e5lrgLbtDBGT",
        "colab_type": "code",
        "outputId": "88f3212f-1dc3-46c0-927e-8f7e7d26dff4",
        "colab": {
          "base_uri": "https://localhost:8080/",
          "height": 139
        }
      },
      "source": [
        "#task 1 medium level\n",
        "#How to get the items not common to both series A and series B?\n",
        "\n",
        "import pandas as pd\n",
        "import numpy as np\n",
        "\n",
        "ser1 = pd.Series([1, 2, 3, 4, 5])\n",
        "ser2 = pd.Series([4, 5, 6, 7, 8])\n",
        "\n",
        "ser_u = pd.Series(np.union1d(ser1, ser2))  \n",
        "ser_i = pd.Series(np.intersect1d(ser1, ser2))  \n",
        "ser_u[~ser_u.isin(ser_i)]"
      ],
      "execution_count": 0,
      "outputs": [
        {
          "output_type": "execute_result",
          "data": {
            "text/plain": [
              "0    1\n",
              "1    2\n",
              "2    3\n",
              "5    6\n",
              "6    7\n",
              "7    8\n",
              "dtype: int64"
            ]
          },
          "metadata": {
            "tags": []
          },
          "execution_count": 16
        }
      ]
    },
    {
      "cell_type": "code",
      "metadata": {
        "id": "pjtQr-wJDdwN",
        "colab_type": "code",
        "outputId": "f76a0daa-1a03-46b9-f01f-0c670d61f55c",
        "colab": {
          "base_uri": "https://localhost:8080/",
          "height": 329
        }
      },
      "source": [
        "#task 2 \n",
        "#How to keep only the top-N most frequent values as it is \n",
        "#and replace everything else as ‘Other’?\n",
        "\n",
        "import pandas as pd\n",
        "import numpy as np\n",
        "\n",
        "np.random.RandomState(100)\n",
        "ser = pd.Series(np.random.randint(1, 5, [12]))\n",
        "\n",
        "print(\"Top 2 Freq:\", ser.value_counts())\n",
        "ser[~ser.isin(ser.value_counts().index[:2])] = 'Other'\n",
        "ser"
      ],
      "execution_count": 0,
      "outputs": [
        {
          "output_type": "stream",
          "text": [
            "Top 2 Freq: 3    8\n",
            "1    2\n",
            "4    1\n",
            "2    1\n",
            "dtype: int64\n"
          ],
          "name": "stdout"
        },
        {
          "output_type": "execute_result",
          "data": {
            "text/plain": [
              "0         3\n",
              "1         3\n",
              "2         3\n",
              "3         3\n",
              "4         3\n",
              "5         3\n",
              "6         3\n",
              "7     Other\n",
              "8         3\n",
              "9         1\n",
              "10        1\n",
              "11    Other\n",
              "dtype: object"
            ]
          },
          "metadata": {
            "tags": []
          },
          "execution_count": 18
        }
      ]
    },
    {
      "cell_type": "code",
      "metadata": {
        "id": "9p-QHvEdD0IG",
        "colab_type": "code",
        "outputId": "45f00aa7-f84d-4be4-fbd3-4c64e915f3d2",
        "colab": {
          "base_uri": "https://localhost:8080/",
          "height": 121
        }
      },
      "source": [
        "#task 3\n",
        "#How to stack two series vertically and horizontally(to form dataframes)?\n",
        "\n",
        "import pandas as pd\n",
        "import numpy as np\n",
        "\n",
        "ser1 = pd.Series(range(5))\n",
        "ser2 = pd.Series(list('abcde'))\n",
        "\n",
        "#vertical\n",
        "ser1.append(ser2)\n",
        "\n",
        "#horizontal\n",
        "df = pd.concat([ser1, ser2], axis=1)\n",
        "print(df)"
      ],
      "execution_count": 0,
      "outputs": [
        {
          "output_type": "stream",
          "text": [
            "   0  1\n",
            "0  0  a\n",
            "1  1  b\n",
            "2  2  c\n",
            "3  3  d\n",
            "4  4  e\n"
          ],
          "name": "stdout"
        }
      ]
    },
    {
      "cell_type": "code",
      "metadata": {
        "id": "JIxJ6xHBEcGN",
        "colab_type": "code",
        "outputId": "6e7b43a7-0dae-4719-c8f5-b81a2acd9cd7",
        "colab": {
          "base_uri": "https://localhost:8080/",
          "height": 35
        }
      },
      "source": [
        "#task 4\n",
        "#How to get the positions of items of series ser2 in another series ser1?\n",
        "\n",
        "import pandas as pd\n",
        "import numpy as np\n",
        "\n",
        "ser1 = pd.Series([10, 9, 6, 5, 3, 1, 12, 8, 13])\n",
        "ser2 = pd.Series([1, 3, 10, 13])\n",
        "\n",
        "[pd.Index(ser1).get_loc(i) for i in ser2]"
      ],
      "execution_count": 0,
      "outputs": [
        {
          "output_type": "execute_result",
          "data": {
            "text/plain": [
              "[5, 4, 0, 8]"
            ]
          },
          "metadata": {
            "tags": []
          },
          "execution_count": 20
        }
      ]
    },
    {
      "cell_type": "code",
      "metadata": {
        "id": "Zq9kE2oaExeQ",
        "colab_type": "code",
        "outputId": "fefa0f9d-6e7a-4907-cac4-d7d091ee1328",
        "colab": {
          "base_uri": "https://localhost:8080/",
          "height": 87
        }
      },
      "source": [
        "#task 5\n",
        "#How to get the mean of a series grouped by another series \n",
        "#(e.g. compute the mean of weights of each fruit)?\n",
        "\n",
        "import pandas as pd\n",
        "import numpy as np\n",
        "\n",
        "fruit = pd.Series(np.random.choice(['apple', 'banana', 'carrot'], 10))\n",
        "weights = pd.Series(np.linspace(1, 10, 10))\n",
        "\n",
        "weights.groupby(fruit).mean()"
      ],
      "execution_count": 1,
      "outputs": [
        {
          "output_type": "execute_result",
          "data": {
            "text/plain": [
              "apple     4.500000\n",
              "banana    6.333333\n",
              "carrot    5.400000\n",
              "dtype: float64"
            ]
          },
          "metadata": {
            "tags": []
          },
          "execution_count": 1
        }
      ]
    },
    {
      "cell_type": "code",
      "metadata": {
        "id": "cn2pST2uTzBs",
        "colab_type": "code",
        "colab": {
          "base_uri": "https://localhost:8080/",
          "height": 87
        },
        "outputId": "e348c417-697b-4a08-e797-4d3eee9f7844"
      },
      "source": [
        "#task 1 advanced \n",
        "#How to filter words that contain at least 2 vowels from a series?\n",
        "\n",
        "import pandas as pd\n",
        "\n",
        "ser = pd.Series(['Apple', 'Orange', 'Plan', 'Python', 'Money'])\n",
        "\n",
        "from collections import Counter\n",
        "mask = ser.map(lambda x: sum([Counter(x.lower()).get(i, 0) for i in list('aeiou')]) >= 2)\n",
        "ser[mask]"
      ],
      "execution_count": 2,
      "outputs": [
        {
          "output_type": "execute_result",
          "data": {
            "text/plain": [
              "0     Apple\n",
              "1    Orange\n",
              "4     Money\n",
              "dtype: object"
            ]
          },
          "metadata": {
            "tags": []
          },
          "execution_count": 2
        }
      ]
    },
    {
      "cell_type": "code",
      "metadata": {
        "id": "M_dMN5C9UlGV",
        "colab_type": "code",
        "colab": {
          "base_uri": "https://localhost:8080/",
          "height": 87
        },
        "outputId": "a9e23925-de77-4431-aea4-d7851fe44320"
      },
      "source": [
        "#task 2\n",
        "#How to filter valid emails from a series?\n",
        "\n",
        "import pandas as pd\n",
        "\n",
        "emails = pd.Series(['buying books at amazom.com', 'rameses@egypt.com', 'matt@t.co', 'narendra@modi.com'])\n",
        "\n",
        "import re\n",
        "pattern ='[A-Za-z0-9._%+-]+@[A-Za-z0-9.-]+\\\\.[A-Za-z]{2,4}'\n",
        "mask = emails.map(lambda x: bool(re.match(pattern, x)))\n",
        "emails[mask]"
      ],
      "execution_count": 5,
      "outputs": [
        {
          "output_type": "execute_result",
          "data": {
            "text/plain": [
              "1    rameses@egypt.com\n",
              "2            matt@t.co\n",
              "3    narendra@modi.com\n",
              "dtype: object"
            ]
          },
          "metadata": {
            "tags": []
          },
          "execution_count": 5
        }
      ]
    },
    {
      "cell_type": "code",
      "metadata": {
        "id": "3jn7mQw1VS1m",
        "colab_type": "code",
        "colab": {
          "base_uri": "https://localhost:8080/",
          "height": 35
        },
        "outputId": "e3d18cc6-bc66-4a40-b167-37d4bef89820"
      },
      "source": [
        "#task 3\n",
        "#How to find all the local maxima (or peaks) in a numeric series?\n",
        "#Get the positions of peaks (values surrounded by smaller values on both sides) in ser.\n",
        "\n",
        "import pandas as pd\n",
        "import numpy as np\n",
        "\n",
        "ser = pd.Series([2, 10, 3, 4, 9, 10, 2, 7, 3])\n",
        "\n",
        "dd = np.diff(np.sign(np.diff(ser)))\n",
        "peak_locs = np.where(dd == -2)[0] + 1\n",
        "peak_locs"
      ],
      "execution_count": 7,
      "outputs": [
        {
          "output_type": "execute_result",
          "data": {
            "text/plain": [
              "array([1, 5, 7])"
            ]
          },
          "metadata": {
            "tags": []
          },
          "execution_count": 7
        }
      ]
    },
    {
      "cell_type": "code",
      "metadata": {
        "id": "sP4PSXn0VvjR",
        "colab_type": "code",
        "colab": {
          "base_uri": "https://localhost:8080/",
          "height": 156
        },
        "outputId": "7ab71b68-459c-4198-885e-502dc92de894"
      },
      "source": [
        "#task 4\n",
        "#How to change column values when importing csv to a dataframe?\n",
        "#Import the boston housing dataset (link to raw file),\n",
        "#but while importing change the 'medv' (median house value) \n",
        "#column so that values < 25 becomes ‘Low’ and > 25 becomes ‘High’.\n",
        "#TIP: you can read to csv right from the link!\n",
        "\n",
        "import pandas as pd\n",
        "\n",
        "df = pd.read_csv('https://raw.githubusercontent.com/selva86/datasets/master/BostonHousing.csv', \n",
        "                 converters={'medv': lambda x: 'High' if float(x) > 25 else 'Low'})\n",
        "print(df.head())"
      ],
      "execution_count": 11,
      "outputs": [
        {
          "output_type": "stream",
          "text": [
            "      crim    zn  indus  chas    nox  ...  tax  ptratio       b  lstat  medv\n",
            "0  0.00632  18.0   2.31     0  0.538  ...  296     15.3  396.90   4.98   Low\n",
            "1  0.02731   0.0   7.07     0  0.469  ...  242     17.8  396.90   9.14   Low\n",
            "2  0.02729   0.0   7.07     0  0.469  ...  242     17.8  392.83   4.03  High\n",
            "3  0.03237   0.0   2.18     0  0.458  ...  222     18.7  394.63   2.94  High\n",
            "4  0.06905   0.0   2.18     0  0.458  ...  222     18.7  396.90   5.33  High\n",
            "\n",
            "[5 rows x 14 columns]\n"
          ],
          "name": "stdout"
        }
      ]
    },
    {
      "cell_type": "code",
      "metadata": {
        "id": "GB_phxleWU8o",
        "colab_type": "code",
        "colab": {
          "base_uri": "https://localhost:8080/",
          "height": 171
        },
        "outputId": "ae468a65-6023-4544-cee3-e617b330547e"
      },
      "source": [
        "#task 5\n",
        "#How to change the order of columns of a dataframe?\n",
        "#Actually 3 questions.\n",
        "#In df, interchange columns 'a' and 'c'.\n",
        "#Create a generic function to interchange two columns, without hardcoding column names.\n",
        "#Sort the columns in reverse alphabetical order, that is column 'e' first through column 'a' last.\n",
        "\n",
        "import pandas as pd\n",
        "\n",
        "# Input\n",
        "df = pd.DataFrame(np.arange(20).reshape(-1, 5), columns=list('abcde'))\n",
        "\n",
        "#Q1\n",
        "\n",
        "df[list('cbade')]\n",
        "\n",
        "#Q2 \n",
        "\n",
        "def switch_columns(df, col1=None, col2=None):\n",
        "    colnames = df.columns.tolist()\n",
        "    i1, i2 = colnames.index(col1), colnames.index(col2)\n",
        "    colnames[i2], colnames[i1] = colnames[i1], colnames[i2]\n",
        "    return df[colnames]\n",
        "\n",
        "df1=switch_columns(df, 'a', 'c')\n",
        "\n",
        "#Q3\n",
        "\n",
        "df[sorted(df.columns)]"
      ],
      "execution_count": 20,
      "outputs": [
        {
          "output_type": "execute_result",
          "data": {
            "text/html": [
              "<div>\n",
              "<style scoped>\n",
              "    .dataframe tbody tr th:only-of-type {\n",
              "        vertical-align: middle;\n",
              "    }\n",
              "\n",
              "    .dataframe tbody tr th {\n",
              "        vertical-align: top;\n",
              "    }\n",
              "\n",
              "    .dataframe thead th {\n",
              "        text-align: right;\n",
              "    }\n",
              "</style>\n",
              "<table border=\"1\" class=\"dataframe\">\n",
              "  <thead>\n",
              "    <tr style=\"text-align: right;\">\n",
              "      <th></th>\n",
              "      <th>a</th>\n",
              "      <th>b</th>\n",
              "      <th>c</th>\n",
              "      <th>d</th>\n",
              "      <th>e</th>\n",
              "    </tr>\n",
              "  </thead>\n",
              "  <tbody>\n",
              "    <tr>\n",
              "      <th>0</th>\n",
              "      <td>0</td>\n",
              "      <td>1</td>\n",
              "      <td>2</td>\n",
              "      <td>3</td>\n",
              "      <td>4</td>\n",
              "    </tr>\n",
              "    <tr>\n",
              "      <th>1</th>\n",
              "      <td>5</td>\n",
              "      <td>6</td>\n",
              "      <td>7</td>\n",
              "      <td>8</td>\n",
              "      <td>9</td>\n",
              "    </tr>\n",
              "    <tr>\n",
              "      <th>2</th>\n",
              "      <td>10</td>\n",
              "      <td>11</td>\n",
              "      <td>12</td>\n",
              "      <td>13</td>\n",
              "      <td>14</td>\n",
              "    </tr>\n",
              "    <tr>\n",
              "      <th>3</th>\n",
              "      <td>15</td>\n",
              "      <td>16</td>\n",
              "      <td>17</td>\n",
              "      <td>18</td>\n",
              "      <td>19</td>\n",
              "    </tr>\n",
              "  </tbody>\n",
              "</table>\n",
              "</div>"
            ],
            "text/plain": [
              "    a   b   c   d   e\n",
              "0   0   1   2   3   4\n",
              "1   5   6   7   8   9\n",
              "2  10  11  12  13  14\n",
              "3  15  16  17  18  19"
            ]
          },
          "metadata": {
            "tags": []
          },
          "execution_count": 20
        }
      ]
    }
  ]
}